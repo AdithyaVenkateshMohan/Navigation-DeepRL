{
 "cells": [
  {
   "cell_type": "markdown",
   "metadata": {},
   "source": [
    "# Navigation\n",
    "\n",
    "---\n",
    "\n",
    "You are welcome to use this coding environment to train your agent for the project.  Follow the instructions below to get started!\n",
    "\n",
    "### 1. Start the Environment\n",
    "\n",
    "Run the next code cell to install a few packages.  This line will take a few minutes to run!"
   ]
  },
  {
   "cell_type": "code",
   "execution_count": 1,
   "metadata": {},
   "outputs": [],
   "source": [
    "!pip -q install ./python"
   ]
  },
  {
   "cell_type": "code",
   "execution_count": 2,
   "metadata": {},
   "outputs": [],
   "source": [
    "import gym\n",
    "import random\n",
    "import torch\n",
    "from torch import nn\n",
    "import numpy as np\n",
    "from collections import deque\n",
    "import matplotlib.pyplot as5plt\n",
    "%matplotlib inline\n",
    "\n"
   ]
  },
  {
   "cell_type": "code",
   "execution_count": 25,
   "metadata": {},
   "outputs": [
    {
     "name": "stdout",
     "output_type": "stream",
     "text": [
      "cpu\n",
      "torch.Size([50, 100, 1])\n",
      "out size torch.Size([50, 100, 4])\n",
      "covolutional layer Conv1d(100, 100, kernel_size=(8,), stride=(1,), padding=(5,))\n"
     ]
    }
   ],
   "source": [
    "\n",
    "a = torch.randn(50, 100, 1)  \n",
    "device = torch.device(\"cuda:0\" if torch.cuda.is_available() else \"cpu\")\n",
    "print(\"device that gonna be used\",device)\n",
    "\n",
    "print(a.size())\n",
    "m = nn.Conv1d(100, 100, kernel_size = 8 , stride = 1 , padding = 5 ) \n",
    "out = m(a)\n",
    "print(\"out size\",out.size())\n",
    "print(\"covolutional layer\",m)"
   ]
  },
  {
   "cell_type": "code",
   "execution_count": 3,
   "metadata": {
    "scrolled": true
   },
   "outputs": [],
   "source": [
    "import os\n",
    "path = r\"C:\\Users\\adith\\Desktop\\Meng Robotics\\reinforcement\\Banana\\deep-reinforcement-learning\\p1_navigation\\Banana_Windows_x86_64\\Banana.exe\"\n"
   ]
  },
  {
   "cell_type": "code",
   "execution_count": 4,
   "metadata": {},
   "outputs": [],
   "source": [
    "from unityagents import UnityEnvironment\n",
    "import numpy as n"
   ]
  },
  {
   "cell_type": "markdown",
   "metadata": {},
   "source": [
    "The environment is already saved in the Workspace and can be accessed at the file path provided below.  Please run the next code cell without making any changes."
   ]
  },
  {
   "cell_type": "code",
   "execution_count": 5,
   "metadata": {
    "scrolled": true
   },
   "outputs": [
    {
     "name": "stderr",
     "output_type": "stream",
     "text": [
      "INFO:unityagents:\n",
      "'Academy' started successfully!\n",
      "Unity Academy name: Academy\n",
      "        Number of Brains: 1\n",
      "        Number of External Brains : 1\n",
      "        Lesson number : 0\n",
      "        Reset Parameters :\n",
      "\t\t\n",
      "Unity brain name: BananaBrain\n",
      "        Number of Visual Observations (per agent): 0\n",
      "        Vector Observation space type: continuous\n",
      "        Vector Observation space size (per agent): 37\n",
      "        Number of stacked Vector Observation: 1\n",
      "        Vector Action space type: discrete\n",
      "        Vector Action space size (per agent): 4\n",
      "        Vector Action descriptions: , , , \n"
     ]
    }
   ],
   "source": [
    "# please do not modify the line below\n",
    "env = UnityEnvironment(file_name=path)\n",
    "# env = UnityEnvironment(file_name=\"C:\\Reinforcement\\Banana\\deep-reinforcement-learning\\p1_navigation\\Banana_Windows_x86_64\\Banana_Windows_x86_64\\Banana.exe\")"
   ]
  },
  {
   "cell_type": "markdown",
   "metadata": {},
   "source": [
    "Environments contain **_brains_** which are responsible for deciding the actions of their associated agents. Here we check for the first brain available, and set it as the default brain we will be controlling from Python."
   ]
  },
  {
   "cell_type": "code",
   "execution_count": 6,
   "metadata": {},
   "outputs": [],
   "source": [
    "# get the default brain\n",
    "brain_name = env.brain_names[0]\n",
    "brain = env.brains[brain_name]"
   ]
  },
  {
   "cell_type": "code",
   "execution_count": 7,
   "metadata": {},
   "outputs": [
    {
     "name": "stdout",
     "output_type": "stream",
     "text": [
      "BananaBrain\n"
     ]
    }
   ],
   "source": [
    "print(brain_name)"
   ]
  },
  {
   "cell_type": "markdown",
   "metadata": {},
   "source": [
    "### 2. Examine the State and Action Spaces\n",
    "\n",
    "Run the code cell below to print some information about the environment."
   ]
  },
  {
   "cell_type": "code",
   "execution_count": 8,
   "metadata": {},
   "outputs": [
    {
     "name": "stdout",
     "output_type": "stream",
     "text": [
      "Number of agents: 1\n",
      "Number of actions: 4\n",
      "States look like: [1.         0.         0.         0.         0.84408134 0.\n",
      " 0.         1.         0.         0.0748472  0.         1.\n",
      " 0.         0.         0.25755    1.         0.         0.\n",
      " 0.         0.74177343 0.         1.         0.         0.\n",
      " 0.25854847 0.         0.         1.         0.         0.09355672\n",
      " 0.         1.         0.         0.         0.31969345 0.\n",
      " 0.        ]\n",
      "States have length: 37\n",
      "state_type <class 'numpy.ndarray'>\n"
     ]
    }
   ],
   "source": [
    "# reset the environment\n",
    "env_info = env.reset(train_mode=True)[brain_name]\n",
    "\n",
    "# number of agents in the environment\n",
    "print('Number of agents:', len(env_info.agents))\n",
    "\n",
    "# number of actions\n",
    "action_size = brain.vector_action_space_size\n",
    "print('Number of actions:', action_size)\n",
    "\n",
    "# examine the state space \n",
    "state = env_info.vector_observations[0]\n",
    "print('States look like:', state)\n",
    "state_size = len(state)\n",
    "print('States have length:', state_size)\n",
    "State_type = type(state)\n",
    "print(\"state_type\", State_type)"
   ]
  },
  {
   "cell_type": "markdown",
   "metadata": {},
   "source": [
    "### 3. Take Random Actions in the Environment\n",
    "\n",
    "In the next code cell, you will learn how to use the Python API to control the agent and receive feedback from the environment.\n",
    "\n",
    "Note that **in this coding environment, you will not be able to watch the agent while it is training**, and you should set `train_mode=True` to restart the environment."
   ]
  },
  {
   "cell_type": "code",
   "execution_count": 9,
   "metadata": {},
   "outputs": [
    {
     "name": "stdout",
     "output_type": "stream",
     "text": [
      "Score: 0.0\n"
     ]
    }
   ],
   "source": [
    "env_info = env.reset(train_mode=True)[brain_name] # reset the environment\n",
    "state = env_info.vector_observations[0]            # get the current state\n",
    "score = 0                                          # initialize the score\n",
    "while True:\n",
    "    action = np.random.randint(action_size)        # select an action\n",
    "    env_info = env.step(action)[brain_name]        # send the action to the environment\n",
    "    next_state = env_info.vector_observations[0]   # get the next state\n",
    "    #print(len(next_state))\n",
    "    reward = env_info.rewards[0]                   # get the reward\n",
    "    done = env_info.local_done[0]                  # see if episode has finished\n",
    "    score += reward                                # update the score\n",
    "    state = next_state                             # roll over the state to next time step\n",
    "    if done:                                       # exit loop if episode finished\n",
    "        break\n",
    "    \n",
    "print(\"Score: {}\".format(score))"
   ]
  },
  {
   "cell_type": "code",
   "execution_count": 10,
   "metadata": {},
   "outputs": [
    {
     "name": "stderr",
     "output_type": "stream",
     "text": [
      "Enabling notebook extension varInspector/main...\n",
      "      - Validating: ok\n"
     ]
    }
   ],
   "source": [
    "!jupyter nbextension enable varInspector/main"
   ]
  },
  {
   "cell_type": "code",
   "execution_count": 11,
   "metadata": {},
   "outputs": [
    {
     "name": "stdout",
     "output_type": "stream",
     "text": [
      "Device which is used is  cuda:0\n"
     ]
    }
   ],
   "source": [
    "from dqn_agent import Agent\n",
    "agent = Agent(state_size, action_size,State_type ,seed=0)"
   ]
  },
  {
   "cell_type": "code",
   "execution_count": 12,
   "metadata": {},
   "outputs": [
    {
     "name": "stdout",
     "output_type": "stream",
     "text": [
      "BananaBrain BananaBrain\n"
     ]
    }
   ],
   "source": [
    "print(brain_name , brain_name)"
   ]
  },
  {
   "cell_type": "code",
   "execution_count": 13,
   "metadata": {},
   "outputs": [
    {
     "name": "stdout",
     "output_type": "stream",
     "text": [
      "torch.Size([3])\n",
      "torch.Size([3])\n",
      "tensor(1., grad_fn=<MeanBackward1>)\n"
     ]
    },
    {
     "name": "stderr",
     "output_type": "stream",
     "text": [
      "E:\\Anaconda\\lib\\site-packages\\torch\\nn\\_reduction.py:49: UserWarning: size_average and reduce args will be deprecated, please use reduction='none' instead.\n",
      "  warnings.warn(warning.format(ret))\n"
     ]
    }
   ],
   "source": [
    "import torch\n",
    "import torch.nn as nn\n",
    "import torch.nn.functional as F\n",
    "\n",
    "a = torch.tensor([1.0,1,1] , requires_grad=False)\n",
    "b = torch.tensor([2.0,2,2] , requires_grad=True)\n",
    "print(b.size())\n",
    "b = a*b\n",
    "\n",
    "loss = F.mse_loss(a,b, reduce = False)\n",
    "print(loss.size())\n",
    "loss = torch.mean(loss)\n",
    "print(loss)"
   ]
  },
  {
   "cell_type": "code",
   "execution_count": 14,
   "metadata": {
    "scrolled": false
   },
   "outputs": [
    {
     "name": "stdout",
     "output_type": "stream",
     "text": [
      "Episode 1\tAverage Score: 1.00\n",
      "Episode 2\tAverage Score: 0.00\n",
      "Episode 3\tAverage Score: 0.00\n",
      "Episode 4\tAverage Score: 0.25\n",
      "Episode 5\tAverage Score: -0.40\n",
      "Episode 6\tAverage Score: -0.17\n",
      "Episode 7\tAverage Score: -0.14\n",
      "Episode 8\tAverage Score: -0.12\n",
      "Episode 9\tAverage Score: -0.11\n",
      "Episode 10\tAverage Score: -0.20\n",
      "Episode 11\tAverage Score: -0.27\n",
      "Episode 12\tAverage Score: -0.25\n",
      "Episode 13\tAverage Score: -0.23\n",
      "Episode 14\tAverage Score: -0.07\n",
      "Episode 15\tAverage Score: -0.13\n",
      "Episode 16\tAverage Score: 0.00\n",
      "Episode 17\tAverage Score: -0.12\n",
      "Episode 18\tAverage Score: -0.11\n",
      "Episode 19\tAverage Score: -0.05\n",
      "Episode 20\tAverage Score: -0.05\n",
      "Episode 21\tAverage Score: -0.05\n",
      "Episode 22\tAverage Score: -0.05\n",
      "Episode 23\tAverage Score: -0.09\n",
      "Episode 24\tAverage Score: 0.00\n",
      "Episode 25\tAverage Score: 0.00\n",
      "Episode 26\tAverage Score: 0.00\n",
      "Episode 27\tAverage Score: -0.04\n",
      "Episode 28\tAverage Score: 0.07\n",
      "Episode 29\tAverage Score: 0.07\n",
      "Episode 30\tAverage Score: 0.03\n",
      "Episode 31\tAverage Score: 0.06\n",
      "Episode 32\tAverage Score: 0.09\n",
      "Episode 33\tAverage Score: 0.06\n",
      "Episode 34\tAverage Score: 0.06\n",
      "Episode 35\tAverage Score: 0.06\n",
      "Episode 36\tAverage Score: 0.03\n",
      "Episode 37\tAverage Score: 0.05\n",
      "Episode 38\tAverage Score: 0.11\n",
      "Episode 39\tAverage Score: 0.13\n",
      "Episode 40\tAverage Score: 0.17\n",
      "Episode 41\tAverage Score: 0.20\n",
      "Episode 42\tAverage Score: 0.21\n",
      "Episode 43\tAverage Score: 0.23\n",
      "Episode 44\tAverage Score: 0.27\n",
      "Episode 45\tAverage Score: 0.27\n",
      "Episode 46\tAverage Score: 0.26\n",
      "Episode 47\tAverage Score: 0.26\n",
      "Episode 48\tAverage Score: 0.29\n",
      "Episode 49\tAverage Score: 0.24\n",
      "Episode 50\tAverage Score: 0.26\n",
      "Episode 51\tAverage Score: 0.24\n",
      "Episode 52\tAverage Score: 0.21\n",
      "Episode 53\tAverage Score: 0.23\n",
      "Episode 54\tAverage Score: 0.24\n",
      "Episode 55\tAverage Score: 0.24\n",
      "Episode 56\tAverage Score: 0.21\n",
      "Episode 57\tAverage Score: 0.25\n",
      "Episode 58\tAverage Score: 0.29\n",
      "Episode 59\tAverage Score: 0.27\n",
      "Episode 60\tAverage Score: 0.30\n",
      "Episode 61\tAverage Score: 0.33\n",
      "Episode 62\tAverage Score: 0.34\n",
      "Episode 63\tAverage Score: 0.38\n",
      "Episode 64\tAverage Score: 0.36\n",
      "Episode 65\tAverage Score: 0.37\n",
      "Episode 66\tAverage Score: 0.39\n",
      "Episode 67\tAverage Score: 0.34\n",
      "Episode 68\tAverage Score: 0.40\n",
      "Episode 69\tAverage Score: 0.38\n",
      "Episode 70\tAverage Score: 0.40\n",
      "Episode 71\tAverage Score: 0.38\n",
      "Episode 72\tAverage Score: 0.39\n",
      "Episode 73\tAverage Score: 0.40\n",
      "Episode 74\tAverage Score: 0.39\n",
      "Episode 75\tAverage Score: 0.41\n",
      "Episode 76\tAverage Score: 0.39\n",
      "Episode 77\tAverage Score: 0.38\n",
      "Episode 78\tAverage Score: 0.38\n",
      "Episode 79\tAverage Score: 0.39\n",
      "Episode 80\tAverage Score: 0.41\n",
      "Episode 81\tAverage Score: 0.40\n",
      "Episode 82\tAverage Score: 0.39\n",
      "Episode 83\tAverage Score: 0.39\n",
      "Episode 84\tAverage Score: 0.42\n",
      "Episode 85\tAverage Score: 0.42\n",
      "Episode 86\tAverage Score: 0.42\n",
      "Episode 87\tAverage Score: 0.44\n",
      "Episode 88\tAverage Score: 0.44\n",
      "Episode 89\tAverage Score: 0.46\n",
      "Episode 90\tAverage Score: 0.46\n",
      "Episode 91\tAverage Score: 0.48\n",
      "Episode 92\tAverage Score: 0.52\n",
      "Episode 93\tAverage Score: 0.56\n",
      "Episode 94\tAverage Score: 0.57\n",
      "Episode 95\tAverage Score: 0.64\n",
      "Episode 96\tAverage Score: 0.62\n",
      "Episode 97\tAverage Score: 0.67\n",
      "Episode 98\tAverage Score: 0.69\n",
      "Episode 99\tAverage Score: 0.71\n",
      "Episode 100\tAverage Score: 0.72\n",
      "Episode 101\tAverage Score: 0.71\n",
      "Episode 102\tAverage Score: 0.71\n",
      "Episode 103\tAverage Score: 0.70\n",
      "Episode 104\tAverage Score: 0.70\n",
      "Episode 105\tAverage Score: 0.78\n",
      "Episode 106\tAverage Score: 0.79\n",
      "Episode 107\tAverage Score: 0.83\n",
      "Episode 108\tAverage Score: 0.87\n",
      "Episode 109\tAverage Score: 0.94\n",
      "Episode 110\tAverage Score: 0.97\n",
      "Episode 111\tAverage Score: 0.99\n",
      "Episode 112\tAverage Score: 1.02\n",
      "Episode 113\tAverage Score: 1.03\n",
      "Episode 114\tAverage Score: 1.01\n",
      "Episode 115\tAverage Score: 1.03\n",
      "Episode 116\tAverage Score: 1.02\n",
      "Episode 117\tAverage Score: 1.06\n",
      "Episode 118\tAverage Score: 1.11\n",
      "Episode 119\tAverage Score: 1.12\n",
      "Episode 120\tAverage Score: 1.14\n",
      "Episode 121\tAverage Score: 1.16\n",
      "Episode 122\tAverage Score: 1.19\n",
      "Episode 123\tAverage Score: 1.22\n",
      "Episode 124\tAverage Score: 1.26\n",
      "Episode 125\tAverage Score: 1.27\n",
      "Episode 126\tAverage Score: 1.27\n",
      "Episode 127\tAverage Score: 1.31\n",
      "Episode 128\tAverage Score: 1.34\n",
      "Episode 129\tAverage Score: 1.34\n",
      "Episode 130\tAverage Score: 1.35\n",
      "Episode 131\tAverage Score: 1.40\n",
      "Episode 132\tAverage Score: 1.42\n",
      "Episode 133\tAverage Score: 1.43\n",
      "Episode 134\tAverage Score: 1.47\n",
      "Episode 135\tAverage Score: 1.51\n",
      "Episode 136\tAverage Score: 1.51\n",
      "Episode 137\tAverage Score: 1.52\n",
      "Episode 138\tAverage Score: 1.57\n",
      "Episode 139\tAverage Score: 1.62\n",
      "Episode 140\tAverage Score: 1.65\n",
      "Episode 141\tAverage Score: 1.68\n",
      "Episode 142\tAverage Score: 1.69\n",
      "Episode 143\tAverage Score: 1.73\n",
      "Episode 144\tAverage Score: 1.72\n",
      "Episode 145\tAverage Score: 1.77\n",
      "Episode 146\tAverage Score: 1.87\n",
      "Episode 147\tAverage Score: 1.91\n",
      "Episode 148\tAverage Score: 1.96\n",
      "Episode 149\tAverage Score: 2.01\n",
      "Episode 150\tAverage Score: 2.06\n",
      "Episode 151\tAverage Score: 2.08\n",
      "Episode 152\tAverage Score: 2.11\n",
      "Episode 153\tAverage Score: 2.16\n",
      "Episode 154\tAverage Score: 2.15\n",
      "Episode 155\tAverage Score: 2.18\n",
      "Episode 156\tAverage Score: 2.22\n",
      "Episode 157\tAverage Score: 2.22\n",
      "Episode 158\tAverage Score: 2.21\n",
      "Episode 159\tAverage Score: 2.20\n",
      "Episode 160\tAverage Score: 2.24\n",
      "Episode 161\tAverage Score: 2.25\n",
      "Episode 162\tAverage Score: 2.26\n",
      "Episode 163\tAverage Score: 2.28\n",
      "Episode 164\tAverage Score: 2.33\n",
      "Episode 165\tAverage Score: 2.41\n",
      "Episode 166\tAverage Score: 2.47\n",
      "Episode 167\tAverage Score: 2.56\n",
      "Episode 168\tAverage Score: 2.56\n",
      "Episode 169\tAverage Score: 2.61\n",
      "Episode 170\tAverage Score: 2.68\n",
      "Episode 171\tAverage Score: 2.73\n",
      "Episode 172\tAverage Score: 2.76\n",
      "Episode 173\tAverage Score: 2.77\n",
      "Episode 174\tAverage Score: 2.82\n",
      "Episode 175\tAverage Score: 2.83\n",
      "Episode 176\tAverage Score: 2.90\n",
      "Episode 177\tAverage Score: 2.96\n",
      "Episode 178\tAverage Score: 2.95\n",
      "Episode 179\tAverage Score: 3.00\n",
      "Episode 180\tAverage Score: 3.01\n",
      "Episode 181\tAverage Score: 3.06\n",
      "Episode 182\tAverage Score: 3.09\n",
      "Episode 183\tAverage Score: 3.12\n",
      "Episode 184\tAverage Score: 3.12\n",
      "Episode 185\tAverage Score: 3.12\n",
      "Episode 186\tAverage Score: 3.16\n",
      "Episode 187\tAverage Score: 3.19\n",
      "Episode 188\tAverage Score: 3.24\n",
      "Episode 189\tAverage Score: 3.30\n",
      "Episode 190\tAverage Score: 3.36\n",
      "Episode 191\tAverage Score: 3.34\n",
      "Episode 192\tAverage Score: 3.32\n",
      "Episode 193\tAverage Score: 3.36\n",
      "Episode 194\tAverage Score: 3.34\n",
      "Episode 195\tAverage Score: 3.31\n",
      "Episode 196\tAverage Score: 3.33\n",
      "Episode 197\tAverage Score: 3.35\n",
      "Episode 198\tAverage Score: 3.43\n",
      "Episode 199\tAverage Score: 3.42\n",
      "Episode 200\tAverage Score: 3.48\n",
      "Episode 201\tAverage Score: 3.49\n",
      "Episode 202\tAverage Score: 3.53\n",
      "Episode 203\tAverage Score: 3.56\n",
      "Episode 204\tAverage Score: 3.58\n",
      "Episode 205\tAverage Score: 3.58\n",
      "Episode 206\tAverage Score: 3.63\n",
      "Episode 207\tAverage Score: 3.66\n",
      "Episode 208\tAverage Score: 3.67\n",
      "Episode 209\tAverage Score: 3.66\n",
      "Episode 210\tAverage Score: 3.73\n",
      "Episode 211\tAverage Score: 3.72\n",
      "Episode 212\tAverage Score: 3.74\n",
      "Episode 213\tAverage Score: 3.78\n",
      "Episode 214\tAverage Score: 3.84\n",
      "Episode 215\tAverage Score: 3.90\n",
      "Episode 216\tAverage Score: 3.97\n",
      "Episode 217\tAverage Score: 4.01\n",
      "Episode 218\tAverage Score: 4.04\n",
      "Episode 219\tAverage Score: 4.08\n",
      "Episode 220\tAverage Score: 4.13\n",
      "Episode 221\tAverage Score: 4.16\n",
      "Episode 222\tAverage Score: 4.22\n",
      "Episode 223\tAverage Score: 4.26\n",
      "Episode 224\tAverage Score: 4.26\n",
      "Episode 225\tAverage Score: 4.26\n",
      "Episode 226\tAverage Score: 4.37\n",
      "Episode 227\tAverage Score: 4.42\n",
      "Episode 228\tAverage Score: 4.42\n",
      "Episode 229\tAverage Score: 4.50\n",
      "Episode 230\tAverage Score: 4.62\n",
      "Episode 231\tAverage Score: 4.64\n",
      "Episode 232\tAverage Score: 4.66\n",
      "Episode 233\tAverage Score: 4.68\n",
      "Episode 234\tAverage Score: 4.67\n",
      "Episode 235\tAverage Score: 4.68\n",
      "Episode 236\tAverage Score: 4.70\n",
      "Episode 237\tAverage Score: 4.74\n",
      "Episode 238\tAverage Score: 4.78\n",
      "Episode 239\tAverage Score: 4.78\n",
      "Episode 240\tAverage Score: 4.81\n",
      "Episode 241\tAverage Score: 4.81\n",
      "Episode 242\tAverage Score: 4.88\n",
      "Episode 243\tAverage Score: 4.92\n",
      "Episode 244\tAverage Score: 4.99\n",
      "Episode 245\tAverage Score: 5.01\n",
      "Episode 246\tAverage Score: 4.98\n",
      "Episode 247\tAverage Score: 5.07\n",
      "Episode 248\tAverage Score: 5.02\n",
      "Episode 249\tAverage Score: 5.09\n",
      "Episode 250\tAverage Score: 5.13\n",
      "Episode 251\tAverage Score: 5.20\n",
      "Episode 252\tAverage Score: 5.22\n",
      "Episode 253\tAverage Score: 5.22\n",
      "Episode 254\tAverage Score: 5.32\n",
      "Episode 255\tAverage Score: 5.36\n",
      "Episode 256\tAverage Score: 5.38\n",
      "Episode 257\tAverage Score: 5.48\n",
      "Episode 258\tAverage Score: 5.56\n",
      "Episode 259\tAverage Score: 5.70\n"
     ]
    },
    {
     "name": "stdout",
     "output_type": "stream",
     "text": [
      "Episode 260\tAverage Score: 5.71\n",
      "Episode 261\tAverage Score: 5.76\n",
      "Episode 262\tAverage Score: 5.84\n",
      "Episode 263\tAverage Score: 5.89\n",
      "Episode 264\tAverage Score: 5.97\n",
      "Episode 265\tAverage Score: 5.94\n",
      "Episode 266\tAverage Score: 5.96\n",
      "Episode 267\tAverage Score: 5.98\n",
      "Episode 268\tAverage Score: 6.05\n",
      "Episode 269\tAverage Score: 6.03\n",
      "Episode 270\tAverage Score: 6.02\n",
      "Episode 271\tAverage Score: 6.09\n",
      "Episode 272\tAverage Score: 6.16\n",
      "Episode 273\tAverage Score: 6.20\n",
      "Episode 274\tAverage Score: 6.23\n",
      "Episode 275\tAverage Score: 6.26\n",
      "Episode 276\tAverage Score: 6.29\n",
      "Episode 277\tAverage Score: 6.26\n",
      "Episode 278\tAverage Score: 6.33\n",
      "Episode 279\tAverage Score: 6.40\n",
      "Episode 280\tAverage Score: 6.44\n",
      "Episode 281\tAverage Score: 6.48\n",
      "Episode 282\tAverage Score: 6.48\n",
      "Episode 283\tAverage Score: 6.56\n",
      "Episode 284\tAverage Score: 6.67\n",
      "Episode 285\tAverage Score: 6.72\n",
      "Episode 286\tAverage Score: 6.78\n",
      "Episode 287\tAverage Score: 6.85\n",
      "Episode 288\tAverage Score: 6.91\n",
      "Episode 289\tAverage Score: 6.90\n",
      "Episode 290\tAverage Score: 6.91\n",
      "Episode 291\tAverage Score: 6.90\n",
      "Episode 292\tAverage Score: 6.98\n",
      "Episode 293\tAverage Score: 6.97\n",
      "Episode 294\tAverage Score: 7.10\n",
      "Episode 295\tAverage Score: 7.17\n",
      "Episode 296\tAverage Score: 7.21\n",
      "Episode 297\tAverage Score: 7.21\n",
      "Episode 298\tAverage Score: 7.21\n",
      "Episode 299\tAverage Score: 7.23\n",
      "Episode 300\tAverage Score: 7.21\n",
      "Episode 301\tAverage Score: 7.25\n",
      "Episode 302\tAverage Score: 7.36\n",
      "Episode 303\tAverage Score: 7.42\n",
      "Episode 304\tAverage Score: 7.46\n",
      "Episode 305\tAverage Score: 7.57\n",
      "Episode 306\tAverage Score: 7.61\n",
      "Episode 307\tAverage Score: 7.58\n",
      "Episode 308\tAverage Score: 7.63\n",
      "Episode 309\tAverage Score: 7.69\n"
     ]
    },
    {
     "ename": "KeyboardInterrupt",
     "evalue": "",
     "output_type": "error",
     "traceback": [
      "\u001b[1;31m---------------------------------------------------------------------------\u001b[0m",
      "\u001b[1;31mKeyboardInterrupt\u001b[0m                         Traceback (most recent call last)",
      "\u001b[1;32m<ipython-input-14-1ecfaa90f137>\u001b[0m in \u001b[0;36m<module>\u001b[1;34m\u001b[0m\n\u001b[0;32m     46\u001b[0m     \u001b[1;32mreturn\u001b[0m \u001b[0mscores\u001b[0m\u001b[1;33m\u001b[0m\u001b[1;33m\u001b[0m\u001b[0m\n\u001b[0;32m     47\u001b[0m \u001b[1;33m\u001b[0m\u001b[0m\n\u001b[1;32m---> 48\u001b[1;33m \u001b[0mscores\u001b[0m \u001b[1;33m=\u001b[0m \u001b[0mdqn\u001b[0m\u001b[1;33m(\u001b[0m\u001b[1;33m)\u001b[0m\u001b[1;33m\u001b[0m\u001b[1;33m\u001b[0m\u001b[0m\n\u001b[0m\u001b[0;32m     49\u001b[0m \u001b[1;33m\u001b[0m\u001b[0m\n\u001b[0;32m     50\u001b[0m \u001b[1;31m# plot the scores\u001b[0m\u001b[1;33m\u001b[0m\u001b[1;33m\u001b[0m\u001b[1;33m\u001b[0m\u001b[0m\n",
      "\u001b[1;32m<ipython-input-14-1ecfaa90f137>\u001b[0m in \u001b[0;36mdqn\u001b[1;34m(n_episodes, max_t, eps_start, eps_end, eps_decay)\u001b[0m\n\u001b[0;32m     27\u001b[0m             \u001b[0mreward\u001b[0m \u001b[1;33m=\u001b[0m \u001b[0menv_info\u001b[0m\u001b[1;33m.\u001b[0m\u001b[0mrewards\u001b[0m\u001b[1;33m[\u001b[0m\u001b[1;36m0\u001b[0m\u001b[1;33m]\u001b[0m\u001b[1;33m\u001b[0m\u001b[1;33m\u001b[0m\u001b[0m\n\u001b[0;32m     28\u001b[0m             \u001b[0mdone\u001b[0m \u001b[1;33m=\u001b[0m \u001b[0menv_info\u001b[0m\u001b[1;33m.\u001b[0m\u001b[0mlocal_done\u001b[0m\u001b[1;33m[\u001b[0m\u001b[1;36m0\u001b[0m\u001b[1;33m]\u001b[0m\u001b[1;33m\u001b[0m\u001b[1;33m\u001b[0m\u001b[0m\n\u001b[1;32m---> 29\u001b[1;33m             \u001b[0magent\u001b[0m\u001b[1;33m.\u001b[0m\u001b[0mstep\u001b[0m\u001b[1;33m(\u001b[0m\u001b[0mstate\u001b[0m\u001b[1;33m,\u001b[0m \u001b[0maction\u001b[0m\u001b[1;33m,\u001b[0m \u001b[0mreward\u001b[0m\u001b[1;33m,\u001b[0m \u001b[0mnext_state\u001b[0m\u001b[1;33m,\u001b[0m \u001b[0mdone\u001b[0m\u001b[1;33m)\u001b[0m\u001b[1;33m\u001b[0m\u001b[1;33m\u001b[0m\u001b[0m\n\u001b[0m\u001b[0;32m     30\u001b[0m             \u001b[1;31m#print(state, action, reward, next_state, done)\u001b[0m\u001b[1;33m\u001b[0m\u001b[1;33m\u001b[0m\u001b[1;33m\u001b[0m\u001b[0m\n\u001b[0;32m     31\u001b[0m             \u001b[0mstate\u001b[0m \u001b[1;33m=\u001b[0m \u001b[0mnext_state\u001b[0m\u001b[1;33m\u001b[0m\u001b[1;33m\u001b[0m\u001b[0m\n",
      "\u001b[1;32m~\\Desktop\\Meng Robotics\\reinforcement\\Banana\\Navigation-\\Navigation-DeepRL\\dqn_agent.py\u001b[0m in \u001b[0;36mstep\u001b[1;34m(self, state, action, reward, next_state, done)\u001b[0m\n\u001b[0;32m     70\u001b[0m         \u001b[1;31m# Save experience in replay memory\u001b[0m\u001b[1;33m\u001b[0m\u001b[1;33m\u001b[0m\u001b[1;33m\u001b[0m\u001b[0m\n\u001b[0;32m     71\u001b[0m         \u001b[0mPriority\u001b[0m \u001b[1;33m=\u001b[0m \u001b[0mself\u001b[0m\u001b[1;33m.\u001b[0m\u001b[0mgetError\u001b[0m\u001b[1;33m(\u001b[0m\u001b[0mstate\u001b[0m\u001b[1;33m,\u001b[0m \u001b[0maction\u001b[0m\u001b[1;33m,\u001b[0m \u001b[0mreward\u001b[0m\u001b[1;33m,\u001b[0m \u001b[0mnext_state\u001b[0m\u001b[1;33m,\u001b[0m\u001b[0mdone\u001b[0m\u001b[1;33m)\u001b[0m\u001b[1;33m\u001b[0m\u001b[1;33m\u001b[0m\u001b[0m\n\u001b[1;32m---> 72\u001b[1;33m         \u001b[0mself\u001b[0m\u001b[1;33m.\u001b[0m\u001b[0mmemory\u001b[0m\u001b[1;33m.\u001b[0m\u001b[0madd\u001b[0m\u001b[1;33m(\u001b[0m\u001b[0mstate\u001b[0m\u001b[1;33m,\u001b[0m \u001b[0maction\u001b[0m\u001b[1;33m,\u001b[0m \u001b[0mreward\u001b[0m\u001b[1;33m,\u001b[0m \u001b[0mnext_state\u001b[0m\u001b[1;33m,\u001b[0m \u001b[0mdone\u001b[0m\u001b[1;33m,\u001b[0m\u001b[0mPriority\u001b[0m\u001b[1;33m)\u001b[0m\u001b[1;33m\u001b[0m\u001b[1;33m\u001b[0m\u001b[0m\n\u001b[0m\u001b[0;32m     73\u001b[0m         \u001b[1;32mglobal\u001b[0m \u001b[0mEpislon\u001b[0m\u001b[1;33m\u001b[0m\u001b[1;33m\u001b[0m\u001b[0m\n\u001b[0;32m     74\u001b[0m         \u001b[0mEpislon\u001b[0m \u001b[1;33m*=\u001b[0m \u001b[0mDecay\u001b[0m\u001b[1;33m\u001b[0m\u001b[1;33m\u001b[0m\u001b[0m\n",
      "\u001b[1;31mKeyboardInterrupt\u001b[0m: "
     ]
    }
   ],
   "source": [
    "\n",
    "\n",
    "def dqn(n_episodes=2000, max_t=1000, eps_start=1.0, eps_end=0.01, eps_decay=0.995):\n",
    "    \"\"\"Deep Q-Learning.\n",
    "    \n",
    "    Params\n",
    "    ======\n",
    "        n_episodes (int): maximum number of training episodes\n",
    "        max_t (int): maximum number of timesteps per episode\n",
    "        eps_start (float): starting value of epsilon, for epsilon-greedy action selection\n",
    "        eps_end (float): minimum value of epsilon\n",
    "        eps_decay (float): multiplicative factor (per episode) for decreasing epsilon\n",
    "    \"\"\"\n",
    "    scores = []                        # list containing scores from each episode\n",
    "    scores_window = deque(maxlen=100)  # last 100 scores\n",
    "    eps = eps_start                    # initialize epsilon\n",
    "    for i_episode in range(1, n_episodes+1):\n",
    "        env_info = env.reset(train_mode=True)[brain_name]\n",
    "        state = env_info.vector_observations[0]\n",
    "        score = 0\n",
    "        #print(\"hello\")\n",
    "        for t in range(max_t):\n",
    "            action = agent.act(state, eps)\n",
    "            action = action.astype(np.int32)\n",
    "            env_info = env.step(action)[brain_name]\n",
    "            next_state = env_info.vector_observations[0]\n",
    "            reward = env_info.rewards[0]\n",
    "            done = env_info.local_done[0]\n",
    "            agent.step(state, action, reward, next_state, done)\n",
    "            #print(state, action, reward, next_state, done)\n",
    "            state = next_state\n",
    "            score += reward\n",
    "            if done:\n",
    "                break \n",
    "        scores_window.append(score)       # save most recent score\n",
    "        scores.append(score)              # save most recent score\n",
    "        eps = max(eps_end, eps_decay*eps) # decrease epsilon\n",
    "        print('\\rEpisode {}\\tAverage Score: {:.2f}'.format(i_episode, np.mean(scores_window)), end=\"\")\n",
    "        if i_episode % 1 == 0:\n",
    "            print('\\rEpisode {}\\tAverage Score: {:.2f}'.format(i_episode, np.mean(scores_window)))\n",
    "        if np.mean(scores_window)>=16.0:\n",
    "            print('\\nEnvironment solved in {:d} episodes!\\tAverage Score: {:.2f}'.format(i_episode-100, np.mean(scores_window)))\n",
    "            torch.save(agent.qnetwork_local.state_dict(), 'checkpoint.pth')\n",
    "            if np.mean(scores_window)>=16.0:\n",
    "                break\n",
    "    return scores\n",
    "\n",
    "scores = dqn()\n",
    "\n",
    "# plot the scores\n",
    "fig = plt.figure()\n",
    "ax = fig.add_subplot(111)\n",
    "plt.plot(np.arange(len(scores)), scores)\n",
    "plt.ylabel('Score')\n",
    "plt.xlabel('Episode #')\n",
    "plt.show()"
   ]
  },
  {
   "cell_type": "code",
   "execution_count": null,
   "metadata": {},
   "outputs": [],
   "source": [
    "agent.qnetwork_local.load_state_dict(torch.load('checkpoint.pth'))\n"
   ]
  },
  {
   "cell_type": "code",
   "execution_count": null,
   "metadata": {},
   "outputs": [],
   "source": [
    "agent.qnetwork_local"
   ]
  },
  {
   "cell_type": "code",
   "execution_count": null,
   "metadata": {},
   "outputs": [],
   "source": [
    "\n",
    "env_info = env.reset(train_mode=False)[brain_name]"
   ]
  },
  {
   "cell_type": "code",
   "execution_count": null,
   "metadata": {},
   "outputs": [],
   "source": [
    "# load the weights from file\n",
    "# env = UnityEnvironment(file_name=path)\n",
    "env_info = env.reset(train_mode=False)[brain_name]\n",
    "brain_name = env.brain_names[0]\n",
    "brain = env.brains[brain_name]\n",
    "state = env_info.vector_observations[0]\n",
    "score =0\n",
    "for i in range(300):\n",
    "    env_info = env.reset(train_mode=False)[brain_name]\n",
    "    state = env_info.vector_observations[0]\n",
    "    for j in range(200):\n",
    "        action = agent.act(state)\n",
    "        action = np.int32(action)\n",
    "        env_info = env.step(action)[brain_name]\n",
    "        next_state = env_info.vector_observations[0]\n",
    "        reward = env_info.rewards[0]\n",
    "        done = env_info.local_done[0]\n",
    "        state = next_state\n",
    "        score += reward\n",
    "        if done:\n",
    "            break\n",
    "            print(score)\n",
    "            "
   ]
  },
  {
   "cell_type": "markdown",
   "metadata": {},
   "source": [
    "When finished, you can close the environment."
   ]
  },
  {
   "cell_type": "code",
   "execution_count": null,
   "metadata": {},
   "outputs": [],
   "source": [
    "env.close()"
   ]
  },
  {
   "cell_type": "code",
   "execution_count": null,
   "metadata": {},
   "outputs": [],
   "source": [
    "from collections import namedtuple, deque\n",
    "from queue import PriorityQueue\n",
    "import numpy as np\n",
    "\n",
    "Pri = PriorityQueue()\n",
    "\n",
    "Pri.put((0.1,(1,2)))\n",
    "Pri.put((2,(2,2)))\n",
    "Pri.put((3,(9,2)))\n",
    "\n",
    "experience = namedtuple(\"Experience\", field_names=[\"state\", \"action\", \"reward\", \"next_state\", \"done\"])\n",
    "Type = [('s0', 'float'),('s1', 'float'),('s2', 'float'),('s3', 'float')]\n",
    "\n",
    "states = np.array((1,1,1,1))\n",
    "st = type(states)\n",
    "print(st)\n",
    "print(\"st\", states , states.dtype)\n",
    "a  =(states,1,1,1,True)\n",
    "print(\"a \", a)\n",
    "probs = [0.34 ,0.33 ,0.33]\n",
    "print(len(probs))\n",
    "indexarray = np.arange(len(probs))\n",
    "print(indexarray)\n",
    "\n",
    "memory = deque()\n",
    "memory.append((5,a))\n",
    "memory.append((7,a))\n",
    "memory.append((2,a))\n",
    "m = [*zip(*memory)]\n",
    "print(\"m\",m)\n",
    "mu = np.array(m[0])\n",
    "expType = [('state', st),('action','float'),('reward','float'), ('next_state','float'), ('done','bool')]\n",
    "mup = np.array([i for i in m[1]] , dtype = expType )\n",
    "mup = np.array([], dtype = expType)\n",
    "print(mup)\n",
    "x = np.array([a] , dtype = expType)\n",
    "mup = np.append(mup,x)\n",
    "mup = np.append(mup,x)\n",
    "print(\"state\",mup['done'])\n",
    "print(\"mu\", mup)\n",
    "print(\"size\",np.size(mup))\n",
    "mup['action'][[0,1]] = [0,5]\n",
    "print(mup)\n",
    "mup = np.delete(mup , 1)\n",
    "print(\"size\",np.size(mup))\n",
    "print(\"state\", mup['state'])\n",
    "\n",
    "# ind = np.array([0,1])\n",
    "# print(\"indezed\", mup[ind])\n",
    "# pu = m[1]\n",
    "# su = np.sum(mu)\n",
    "# ar = [*zip(mu,pu)]\n",
    "# print(ar)\n",
    "\n",
    "# zipped = np.array(ar,object)\n",
    "# #zipped = zipped.flatten()\n",
    "# print(zipped)\n",
    "\n",
    "# ch = np.random.choice(indexarray , 2 , p=probs)\n",
    "# final = zipped[ch]\n",
    "# print(final)\n",
    "# print(\"zip\",zipped, ch)\n",
    "# print(m[0], su, pu)\n",
    "# print(*zip(*memory))\n",
    "# print(memory)\n",
    "# p , x = memory[1]\n",
    "# print(p , x)\n",
    "# print(memory[1])\n",
    "# del memory[2]\n",
    "# print(final[0])\n",
    "# a , b = final[0]\n",
    "# print(a , b)"
   ]
  },
  {
   "cell_type": "code",
   "execution_count": null,
   "metadata": {},
   "outputs": [],
   "source": [
    "import heapq\n",
    "x =[(1,0) , (2,2) , (3,5)]\n",
    "y =[]\n",
    "x.append(-9)\n",
    "for \n",
    "    heapq.heappush(y , i)\n",
    "\n",
    "u = [heapq.heappop(y) for i in range(len(y))]   \n",
    "print(u)\n"
   ]
  },
  {
   "cell_type": "code",
   "execution_count": null,
   "metadata": {},
   "outputs": [],
   "source": [
    "e = experience(1,1,1,1,True)\n",
    "memg = deque()\n",
    "memg.append(e)\n",
    "memg.append(e)\n",
    "memg.append(e)\n",
    "print(np.vstack([e.state for e in memg if e is not None]))\n",
    "print(np.vstack(mup['state']))\n",
    "c = [0,1]\n",
    "p = mup['state'][c]\n",
    "print(p)"
   ]
  },
  {
   "cell_type": "code",
   "execution_count": null,
   "metadata": {},
   "outputs": [],
   "source": [
    "from queue import PriorityQueue\n",
    "\n",
    "Pri = PriorityQueue()\n",
    "\n",
    "Pri.put((0.1,(1,2)))\n",
    "Pri.put((2,(2,2)))\n",
    "Pri.put((3,(9,2)))\n",
    "\n",
    "experience = namedtuple(\"Experience\", field_names=[\"state\", \"action\", \"reward\", \"next_state\", \"done\"])\n",
    "a  = experience(1,1,1,1,True)\n",
    "b = (1,a)\n",
    "print(b)\n",
    "b[0]\n",
    "Pri.put(b)\n",
    "Pri.put(b)\n",
    "Pri.put(b)\n",
    "print(Pri.qsize())\n",
    "a = Pri.get()\n",
    "print(a)\n",
    "print(Pri.qsize())\n",
    "print(Pri[2])"
   ]
  },
  {
   "cell_type": "code",
   "execution_count": null,
   "metadata": {},
   "outputs": [],
   "source": [
    "print(Pri)\n"
   ]
  },
  {
   "cell_type": "markdown",
   "metadata": {},
   "source": [
    "### 4. It's Your Turn!\n",
    "\n",
    "Now it's your turn to train your own agent to solve the environment!  A few **important notes**:\n",
    "- When training the environment, set `train_mode=True`, so that the line for resetting the environment looks like the following:\n",
    "```python\n",
    "env_info = env.reset(train_mode=True)[brain_name]\n",
    "```\n",
    "- To structure your work, you're welcome to work directly in this Jupyter notebook, or you might like to start over with a new file!  You can see the list of files in the workspace by clicking on **_Jupyter_** in the top left corner of the notebook.\n",
    "- In this coding environment, you will not be able to watch the agent while it is training.  However, **_after training the agent_**, you can download the saved model weights to watch the agent on your own machine! "
   ]
  },
  {
   "cell_type": "code",
   "execution_count": null,
   "metadata": {},
   "outputs": [],
   "source": [
    "import numpy as np\n",
    "s= [1,2,3,4]\n",
    "P=[0.25,0.25,0.25,0.25]\n",
    "c = np.random.choice(s,2,p=P)\n",
    "print(c)"
   ]
  },
  {
   "cell_type": "code",
   "execution_count": null,
   "metadata": {},
   "outputs": [],
   "source": [
    "a = [1,2]"
   ]
  },
  {
   "cell_type": "code",
   "execution_count": null,
   "metadata": {},
   "outputs": [],
   "source": [
    "p = np.array(a)\n",
    "z = p ** 2\n",
    "z"
   ]
  },
  {
   "cell_type": "code",
   "execution_count": null,
   "metadata": {},
   "outputs": [],
   "source": []
  }
 ],
 "metadata": {
  "kernelspec": {
   "display_name": "Python 3",
   "language": "python",
   "name": "python3"
  },
  "language_info": {
   "codemirror_mode": {
    "name": "ipython",
    "version": 3
   },
   "file_extension": ".py",
   "mimetype": "text/x-python",
   "name": "python",
   "nbconvert_exporter": "python",
   "pygments_lexer": "ipython3",
   "version": "3.5.2"
  },
  "varInspector": {
   "cols": {
    "lenName": 16,
    "lenType": 16,
    "lenVar": 40
   },
   "kernels_config": {
    "python": {
     "delete_cmd_postfix": "",
     "delete_cmd_prefix": "del ",
     "library": "var_list.py",
     "varRefreshCmd": "print(var_dic_list())"
    },
    "r": {
     "delete_cmd_postfix": ") ",
     "delete_cmd_prefix": "rm(",
     "library": "var_list.r",
     "varRefreshCmd": "cat(var_dic_list()) "
    }
   },
   "types_to_exclude": [
    "module",
    "function",
    "builtin_function_or_method",
    "instance",
    "_Feature"
   ],
   "window_display": false
  }
 },
 "nbformat": 4,
 "nbformat_minor": 2
}
